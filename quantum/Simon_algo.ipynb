{
 "cells": [
  {
   "cell_type": "code",
   "execution_count": 2,
   "id": "9da09a67-2959-4c04-94ef-5b7b45f07d62",
   "metadata": {},
   "outputs": [],
   "source": [
    "# Imports\n",
    "from qiskit import *\n",
    "import qiskit.quantum_info as qi\n",
    "from qiskit_ibm_provider import IBMProvider\n",
    "import numpy as np\n",
    "import galois"
   ]
  },
  {
   "cell_type": "code",
   "execution_count": 3,
   "id": "31901226-ca30-4144-9b28-a7422bcf8b1f",
   "metadata": {},
   "outputs": [],
   "source": [
    "provider = IBMProvider()"
   ]
  },
  {
   "cell_type": "code",
   "execution_count": 4,
   "id": "2ccfb1e6-4a27-4d53-b686-e4fcc71c0f85",
   "metadata": {},
   "outputs": [],
   "source": [
    "backend = provider.get_backend('simulator_mps')"
   ]
  },
  {
   "cell_type": "markdown",
   "id": "c5500d22-7560-43d4-9ff8-1d21db1ce37e",
   "metadata": {},
   "source": [
    "## Simon's Function"
   ]
  },
  {
   "cell_type": "code",
   "execution_count": 5,
   "id": "85ce7130-f707-4b2b-89c1-021aa02221b2",
   "metadata": {},
   "outputs": [],
   "source": [
    "def simon_func(s: str):\n",
    "    # Create a QuantumCircuit implementing a query gate for simon problem\n",
    "    # Obeying the promise, to find the hidden string 's'\n",
    "    n = len(s)\n",
    "    qc = QuantumCircuit(2 * n)\n",
    "    pi = np.random.permutation(2**n)  # Creates essentially a random array, hiding the string\n",
    "\n",
    "    query_gate = np.zeros((4**n,4**n))\n",
    "    # Now we'll define a query gate explicitly. The idea is to first define a function g(x) = min{x,x ^ s}, which\n",
    "    # is a simple function that satisfies the promise, and then we take f to be the composition of g and the random\n",
    "    # permutation pi. This gives us a random function satisfying the promise for s.\n",
    "    \n",
    "    for x in range(2**n):\n",
    "        for y in range(2**n):\n",
    "            #print(x,y, int(s,2),x ^ int(s,2))\n",
    "            z = y ^ pi[min(x, x ^ int(s,2))]\n",
    "            query_gate[x + 2**n * z, x + 2**n * y] = 1  # Huh???\n",
    "    qc.unitary(query_gate, range(2*n))\n",
    "    return qc#, query_gate, s"
   ]
  },
  {
   "cell_type": "code",
   "execution_count": 6,
   "id": "cc56a85a-7f23-4fc7-ae71-7d758906305f",
   "metadata": {},
   "outputs": [],
   "source": [
    "# Setting up our specific circuit to run the operation(using compose)\n",
    "def measurements(problem, k: int):\n",
    "    # k is the number of times to confirm everything for post-processing\n",
    "    # quantum circuit uses the Unitary function given to it\n",
    "    n = problem.num_qubits // 2\n",
    "\n",
    "    qc = QuantumCircuit(2 * n, n)\n",
    "    qc.h(range(n))  # Hadamard gate to everything\n",
    "    qc.compose(problem, inplace = True)  # Add the function to our circuit\n",
    "    qc.h(range(n))\n",
    "    qc.measure(range(n), range(n))\n",
    "\n",
    "    result = backend.run(qc, shots = k, memory=True).result()\n",
    "    return result.get_memory()"
   ]
  },
  {
   "cell_type": "code",
   "execution_count": 7,
   "id": "a467291c-d481-4e7d-86ac-7fc54dd542d3",
   "metadata": {},
   "outputs": [
    {
     "data": {
      "text/plain": [
       "['11011',\n",
       " '10110',\n",
       " '01100',\n",
       " '10111',\n",
       " '00100',\n",
       " '10110',\n",
       " '10110',\n",
       " '10011',\n",
       " '01101',\n",
       " '01000',\n",
       " '11010',\n",
       " '00001',\n",
       " '01000',\n",
       " '11011',\n",
       " '10110',\n",
       " '01000',\n",
       " '10011',\n",
       " '00000',\n",
       " '10111',\n",
       " '01101']"
      ]
     },
     "execution_count": 7,
     "metadata": {},
     "output_type": "execute_result"
    }
   ],
   "source": [
    "measurements(simon_func('10010'), k = 20)"
   ]
  },
  {
   "cell_type": "code",
   "execution_count": 8,
   "id": "608ba4ad-0ec3-4229-8751-81c60f661045",
   "metadata": {},
   "outputs": [],
   "source": [
    "# Given a Quantum Circuit that implements a query gate, return the hidden string\n",
    "\n",
    "# Quantum part: run the circuit defined proviously part k times and gather the measurement results\n",
    "# Replace +10 by +r for any nonnegative integer r depending on desired confidence\n",
    "def full_algo(problem):\n",
    "    meas = measurements(problem, k = problem.num_qubits // 2 + 10)\n",
    "    print(\"Measurements:\")\n",
    "    print(meas)\n",
    "\n",
    "    # Classical post-processing\n",
    "    \n",
    "    # 1. Convert measurements to 2D-array of integers\n",
    "    matrix = np.array([list(bitstring) for bitstring in meas]).astype(int)\n",
    "\n",
    "    # 2. Interpret matrix as using arithmetic mod 2, and null space\n",
    "    null_space = galois.GF(2)(matrix).null_space()\n",
    "    print(\"Null space\")\n",
    "    display(null_space)\n",
    "\n",
    "    # 3. Convert back to a string\n",
    "    print('Guess for hidden string s:')\n",
    "    if len(null_space) == 0:\n",
    "        # No non-trivial solution: 's' is all zeroes\n",
    "        return '0' * len(meas[0])\n",
    "    return ''.join(np.array(null_space[0]).astype(str))"
   ]
  },
  {
   "cell_type": "code",
   "execution_count": 9,
   "id": "fea1d03a-f946-4cf7-8f96-707b384bf481",
   "metadata": {},
   "outputs": [],
   "source": [
    "hidden_string = '110011'\n",
    "through_func = simon_func(hidden_string)"
   ]
  },
  {
   "cell_type": "code",
   "execution_count": 10,
   "id": "e531bbc6-52d6-47de-bfaf-a64e10fea51b",
   "metadata": {},
   "outputs": [
    {
     "name": "stdout",
     "output_type": "stream",
     "text": [
      "Measurements:\n",
      "['011010', '110011', '001011', '111111', '011010', '011110', '101010', '110100', '010001', '011010', '000000', '001111', '100110', '110111', '101010', '111000']\n",
      "Null space\n"
     ]
    },
    {
     "data": {
      "text/plain": [
       "GF([[1, 1, 0, 0, 1, 1]], order=2)"
      ]
     },
     "metadata": {},
     "output_type": "display_data"
    },
    {
     "name": "stdout",
     "output_type": "stream",
     "text": [
      "Guess for hidden string s:\n"
     ]
    },
    {
     "data": {
      "text/plain": [
       "'110011'"
      ]
     },
     "execution_count": 10,
     "metadata": {},
     "output_type": "execute_result"
    }
   ],
   "source": [
    "full_algo(through_func)"
   ]
  }
 ],
 "metadata": {
  "kernelspec": {
   "display_name": "Python 3 (ipykernel)",
   "language": "python",
   "name": "python3"
  },
  "language_info": {
   "codemirror_mode": {
    "name": "ipython",
    "version": 3
   },
   "file_extension": ".py",
   "mimetype": "text/x-python",
   "name": "python",
   "nbconvert_exporter": "python",
   "pygments_lexer": "ipython3",
   "version": "3.10.12"
  }
 },
 "nbformat": 4,
 "nbformat_minor": 5
}
