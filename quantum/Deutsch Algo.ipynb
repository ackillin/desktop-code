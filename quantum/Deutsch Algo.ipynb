{
 "cells": [
  {
   "cell_type": "code",
   "execution_count": 1,
   "id": "9288ae09-3c91-4a73-bec2-489791386075",
   "metadata": {},
   "outputs": [],
   "source": [
    "from qiskit import *\n",
    "from qiskit_ibm_provider import IBMProvider"
   ]
  },
  {
   "cell_type": "code",
   "execution_count": 2,
   "id": "165675c6-9a33-418e-bc99-fd15fda8240d",
   "metadata": {},
   "outputs": [],
   "source": [
    "provider = IBMProvider()"
   ]
  },
  {
   "cell_type": "code",
   "execution_count": 3,
   "id": "933f6147-133b-4bf9-9c3e-b7cfebe0cc32",
   "metadata": {},
   "outputs": [],
   "source": [
    "backend = provider.get_backend('ibmq_qasm_simulator')"
   ]
  },
  {
   "cell_type": "code",
   "execution_count": 4,
   "id": "03836729-2775-474f-b57b-92cc47e479ae",
   "metadata": {},
   "outputs": [],
   "source": [
    "def deus_func(case: int):\n",
    "    f = QuantumCircuit(2)\n",
    "    if case in [2,3]:\n",
    "        f.cx(0,1)\n",
    "    if case in [3,4]:\n",
    "        f.x(1)\n",
    "    return f"
   ]
  },
  {
   "cell_type": "code",
   "execution_count": 5,
   "id": "d7f38e25-07d1-43a7-841e-ac1f433c3112",
   "metadata": {},
   "outputs": [],
   "source": [
    "func = deus_func(3)"
   ]
  },
  {
   "cell_type": "code",
   "execution_count": 6,
   "id": "80a2b09b-37c3-40e1-8cf0-464a61dce6ff",
   "metadata": {},
   "outputs": [
    {
     "data": {
      "image/png": "[encoded data removed]",
      "text/plain": [
       "<Figure size 370.906x284.278 with 1 Axes>"
      ]
     },
     "execution_count": 6,
     "metadata": {},
     "output_type": "execute_result"
    }
   ],
   "source": [
    "#  Creating and compiling the circuits to use the given circ\n",
    "n = func.num_qubits - 1\n",
    "qc = QuantumCircuit(n+1, n)\n",
    "\n",
    "qc.x(n)  # Applying NOT gate to put last qubit into |1> format\n",
    "qc.h(range(n+1))  # Applying hadamard gate to every qubit\n",
    "qc.barrier()  # For logical separating\n",
    "# Showing current state\n",
    "# Last Qubit (1 in my instance) is in |1> format, everything else is |0>\n",
    "qc.draw('mpl')"
   ]
  },
  {
   "cell_type": "code",
   "execution_count": 8,
   "id": "915d067f-02a6-49e1-ab82-4c3482e4f584",
   "metadata": {},
   "outputs": [
    {
     "data": {
      "text/plain": [
       "<qiskit.circuit.instructionset.InstructionSet at 0x7f5f9910a3e0>"
      ]
     },
     "execution_count": 8,
     "metadata": {},
     "output_type": "execute_result"
    }
   ],
   "source": [
    "qc.compose(func,inplace=True)  # Adds the other circuit to this one\n",
    "# Effectively adds them together\n",
    "qc.barrier()"
   ]
  },
  {
   "cell_type": "code",
   "execution_count": 9,
   "id": "cf0905a7-f267-48ac-a774-7d46a4441be1",
   "metadata": {},
   "outputs": [
    {
     "data": {
      "text/plain": [
       "<qiskit.circuit.instructionset.InstructionSet at 0x7f5f9910abc0>"
      ]
     },
     "execution_count": 9,
     "metadata": {},
     "output_type": "execute_result"
    }
   ],
   "source": [
    "qc.h(range(n))  # Un-doing the Hadamard gate applied to everything before\n",
    "qc.measure(range(n), range(n))"
   ]
  },
  {
   "cell_type": "code",
   "execution_count": 10,
   "id": "2d136ab8-f7f1-4450-bfdd-9f58678cdaca",
   "metadata": {},
   "outputs": [
    {
     "data": {
      "image/png": "[encoded data removed]",
      "text/plain": [
       "<Figure size 872.572x284.278 with 1 Axes>"
      ]
     },
     "execution_count": 10,
     "metadata": {},
     "output_type": "execute_result"
    }
   ],
   "source": [
    "qc.draw('mpl')"
   ]
  },
  {
   "cell_type": "code",
   "execution_count": 16,
   "id": "419887a9-e7d1-4bd3-aafe-f388c3aac823",
   "metadata": {},
   "outputs": [],
   "source": [
    "job = backend.run(qc,shots = 1000, memory = True)"
   ]
  },
  {
   "cell_type": "code",
   "execution_count": 17,
   "id": "31d525e3-7651-4529-adb4-985d4dd4ca24",
   "metadata": {},
   "outputs": [],
   "source": [
    "result = job.result()\n",
    "counts = result.get_counts()"
   ]
  },
  {
   "cell_type": "code",
   "execution_count": 18,
   "id": "f0f92055-0cd0-4761-a63a-7b618cfff169",
   "metadata": {},
   "outputs": [
    {
     "data": {
      "text/plain": [
       "{'1': 1000}"
      ]
     },
     "execution_count": 18,
     "metadata": {},
     "output_type": "execute_result"
    }
   ],
   "source": [
    "counts"
   ]
  },
  {
   "cell_type": "code",
   "execution_count": 19,
   "id": "2b3afb14-929a-4fed-ba0d-1817bc4e77a5",
   "metadata": {
    "scrolled": true
   },
   "outputs": [],
   "source": [
    "memory = result.get_memory()"
   ]
  },
  {
   "cell_type": "code",
   "execution_count": 21,
   "id": "91de205e-8a91-4850-a95e-837eb9b6df3b",
   "metadata": {},
   "outputs": [
    {
     "data": {
      "text/plain": [
       "'1'"
      ]
     },
     "execution_count": 21,
     "metadata": {},
     "output_type": "execute_result"
    }
   ],
   "source": [
    "memory[0]"
   ]
  },
  {
   "cell_type": "code",
   "execution_count": 25,
   "id": "4584b6f9-163c-4f7f-bfb3-cc5e9b675ae7",
   "metadata": {},
   "outputs": [
    {
     "name": "stdout",
     "output_type": "stream",
     "text": [
      "Balanced\n"
     ]
    }
   ],
   "source": [
    "if memory[0] == '0':\n",
    "    print('Constant')\n",
    "else:\n",
    "    print('Balanced')"
   ]
  },
  {
   "cell_type": "markdown",
   "id": "81408366-917e-4d3f-8bb9-a13b8bef1abf",
   "metadata": {},
   "source": [
    "## BV-Algo"
   ]
  },
  {
   "cell_type": "code",
   "execution_count": null,
   "id": "78e8b39c-e789-440d-84f3-558f6172b210",
   "metadata": {},
   "outputs": [],
   "source": []
  }
 ],
 "metadata": {
  "kernelspec": {
   "display_name": "Python 3 (ipykernel)",
   "language": "python",
   "name": "python3"
  },
  "language_info": {
   "codemirror_mode": {
    "name": "ipython",
    "version": 3
   },
   "file_extension": ".py",
   "mimetype": "text/x-python",
   "name": "python",
   "nbconvert_exporter": "python",
   "pygments_lexer": "ipython3",
   "version": "3.10.12"
  }
 },
 "nbformat": 4,
 "nbformat_minor": 5
}
