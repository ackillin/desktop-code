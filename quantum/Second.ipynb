{
 "cells": [
  {
   "cell_type": "markdown",
   "id": "c37bc98c-46d3-46d5-a377-2e0ba4be41e2",
   "metadata": {},
   "source": []
  },
  {
   "cell_type": "code",
   "execution_count": 1,
   "id": "bd79ef8e-07b5-4782-b5c9-1a335e08f611",
   "metadata": {},
   "outputs": [],
   "source": [
    "# Welp lets try that again"
   ]
  },
  {
   "cell_type": "markdown",
   "id": "107f7a35-388a-4492-a804-6b465409cffd",
   "metadata": {},
   "source": [
    "## 8 Sided Die"
   ]
  },
  {
   "cell_type": "code",
   "execution_count": 2,
   "id": "83458031-c937-4e3e-bda6-6aa67ae9febd",
   "metadata": {},
   "outputs": [],
   "source": [
    "# The following will create an 8 sided die\n",
    "# This is done by using 3 unentangled qubits"
   ]
  },
  {
   "cell_type": "code",
   "execution_count": 3,
   "id": "63c6de71-83d0-4992-a50c-bae64a359e77",
   "metadata": {},
   "outputs": [],
   "source": [
    "from qiskit import QuantumCircuit, execute, Aer"
   ]
  },
  {
   "cell_type": "code",
   "execution_count": 4,
   "id": "65267c4c-e183-4214-95a9-cc8a85ab9ef8",
   "metadata": {
    "scrolled": true
   },
   "outputs": [
    {
     "data": {
      "text/plain": [
       "<qiskit.circuit.instructionset.InstructionSet at 0x7f671a1301c0>"
      ]
     },
     "execution_count": 4,
     "metadata": {},
     "output_type": "execute_result"
    }
   ],
   "source": [
    "#Creates a simple circuit with 3 Qubits\n",
    "qc = QuantumCircuit(3)\n",
    "\n",
    "qc.h(0)\n",
    "qc.h(1)\n",
    "qc.h(2)\n",
    "#qc.cx(2,3)\n",
    "#qc.h(3)"
   ]
  },
  {
   "cell_type": "code",
   "execution_count": 5,
   "id": "c8eabf22-9521-4f03-9291-575a072b9853",
   "metadata": {},
   "outputs": [],
   "source": [
    "qc.measure_all()"
   ]
  },
  {
   "cell_type": "code",
   "execution_count": 6,
   "id": "9bdeeb95-c565-4b4f-a6b5-b74be25c3fe3",
   "metadata": {},
   "outputs": [],
   "source": [
    "simulator = Aer.get_backend('qasm_simulator')\n",
    "job = execute(qc, simulator, shots=500)"
   ]
  },
  {
   "cell_type": "code",
   "execution_count": 7,
   "id": "d7af346f-9262-4163-97d4-28e10f38399a",
   "metadata": {},
   "outputs": [
    {
     "name": "stdout",
     "output_type": "stream",
     "text": [
      "<qiskit_aer.jobs.aerjob.AerJob object at 0x7f66f7564370>\n"
     ]
    }
   ],
   "source": [
    "print(job)"
   ]
  },
  {
   "cell_type": "code",
   "execution_count": 8,
   "id": "f040420a-6ee7-464d-bbfc-7402101c2dde",
   "metadata": {},
   "outputs": [
    {
     "name": "stdout",
     "output_type": "stream",
     "text": [
      "{'110': 85, '101': 50, '001': 56, '010': 61, '000': 54, '100': 54, '111': 71, '011': 69}\n"
     ]
    }
   ],
   "source": [
    "result = job.result()\n",
    "counts = result.get_counts(qc)\n",
    "print(counts)"
   ]
  },
  {
   "cell_type": "code",
   "execution_count": 9,
   "id": "cfa32c8d-1bce-4321-9f12-4e7c3371894e",
   "metadata": {},
   "outputs": [
    {
     "data": {
      "text/html": [
       "<pre style=\"word-wrap: normal;white-space: pre;background: #fff0;line-height: 1.1;font-family: &quot;Courier New&quot;,Courier,monospace\">        ┌───┐ ░ ┌─┐      \n",
       "   q_0: ┤ H ├─░─┤M├──────\n",
       "        ├───┤ ░ └╥┘┌─┐   \n",
       "   q_1: ┤ H ├─░──╫─┤M├───\n",
       "        ├───┤ ░  ║ └╥┘┌─┐\n",
       "   q_2: ┤ H ├─░──╫──╫─┤M├\n",
       "        └───┘ ░  ║  ║ └╥┘\n",
       "meas: 3/═════════╩══╩══╩═\n",
       "                 0  1  2 </pre>"
      ],
      "text/plain": [
       "        ┌───┐ ░ ┌─┐      \n",
       "   q_0: ┤ H ├─░─┤M├──────\n",
       "        ├───┤ ░ └╥┘┌─┐   \n",
       "   q_1: ┤ H ├─░──╫─┤M├───\n",
       "        ├───┤ ░  ║ └╥┘┌─┐\n",
       "   q_2: ┤ H ├─░──╫──╫─┤M├\n",
       "        └───┘ ░  ║  ║ └╥┘\n",
       "meas: 3/═════════╩══╩══╩═\n",
       "                 0  1  2 "
      ]
     },
     "execution_count": 9,
     "metadata": {},
     "output_type": "execute_result"
    }
   ],
   "source": [
    "qc.draw()"
   ]
  },
  {
   "cell_type": "code",
   "execution_count": 10,
   "id": "048ee7ac-f82f-4871-98ec-8f10fd8bcd37",
   "metadata": {},
   "outputs": [
    {
     "data": {
      "text/plain": [
       "dict_values([85, 50, 56, 61, 54, 54, 71, 69])"
      ]
     },
     "execution_count": 10,
     "metadata": {},
     "output_type": "execute_result"
    }
   ],
   "source": [
    "counts.values()"
   ]
  },
  {
   "cell_type": "code",
   "execution_count": 11,
   "id": "0d734eb6-267e-4595-97b7-405bc7b94e6f",
   "metadata": {},
   "outputs": [],
   "source": [
    "cnt = counts.copy()"
   ]
  },
  {
   "cell_type": "code",
   "execution_count": 12,
   "id": "92ec2e3e-dee3-4281-bb5d-ca31427cfbd6",
   "metadata": {},
   "outputs": [],
   "source": [
    "def bin_conv(binary):\n",
    "    cur = 1\n",
    "    ret = 0\n",
    "    for i in binary:\n",
    "        ret+= (int(i)*cur)\n",
    "        cur = cur*2\n",
    "    return ret"
   ]
  },
  {
   "cell_type": "code",
   "execution_count": 13,
   "id": "3d7cd31e-6a24-443a-a8ad-0b449bb9ad7f",
   "metadata": {},
   "outputs": [
    {
     "name": "stdout",
     "output_type": "stream",
     "text": [
      "1 54\n",
      "2 56\n",
      "3 61\n",
      "4 69\n",
      "5 54\n",
      "6 50\n",
      "7 85\n",
      "8 71\n"
     ]
    }
   ],
   "source": [
    "for k, i in sorted(cnt.items()):\n",
    "    print(bin_conv(k[::-1]) + 1, i)"
   ]
  },
  {
   "cell_type": "code",
   "execution_count": 14,
   "id": "b59fdd8a-44a1-47fa-afee-0ea9f5d75503",
   "metadata": {},
   "outputs": [
    {
     "data": {
      "text/plain": [
       "19"
      ]
     },
     "execution_count": 14,
     "metadata": {},
     "output_type": "execute_result"
    }
   ],
   "source": [
    "bin_conv('11001')"
   ]
  },
  {
   "cell_type": "markdown",
   "id": "e23a0679-acad-42d9-a108-e06a2b787bed",
   "metadata": {},
   "source": [
    "## 20 Sided Die"
   ]
  },
  {
   "cell_type": "code",
   "execution_count": 15,
   "id": "4982a96a-6e75-41be-805f-b23c0d8a9edb",
   "metadata": {},
   "outputs": [
    {
     "data": {
      "text/plain": [
       "<qiskit.circuit.instructionset.InstructionSet at 0x7f66f6c5f490>"
      ]
     },
     "execution_count": 15,
     "metadata": {},
     "output_type": "execute_result"
    }
   ],
   "source": [
    "# Trying to make a 20 sided die with quantum\n",
    "qc = QuantumCircuit(2)\n",
    "#[qc.h(i) for i in range(qc.num_qubits)]\n",
    "qc.h(0)\n",
    "qc.cx(0,1)\n",
    "#qc.h(3)"
   ]
  },
  {
   "cell_type": "code",
   "execution_count": 16,
   "id": "d3218a65-6fe2-4fdb-bd42-50cfab00c721",
   "metadata": {
    "scrolled": true
   },
   "outputs": [],
   "source": [
    "#qc.ry(75,1)"
   ]
  },
  {
   "cell_type": "code",
   "execution_count": 17,
   "id": "433ed9be-6854-44c1-bc0c-f187b2ca2ed6",
   "metadata": {},
   "outputs": [
    {
     "data": {
      "text/plain": [
       "<qiskit.circuit.instructionset.InstructionSet at 0x7f66f6c5ee60>"
      ]
     },
     "execution_count": 17,
     "metadata": {},
     "output_type": "execute_result"
    }
   ],
   "source": [
    "qc.rx(75,0)"
   ]
  },
  {
   "cell_type": "code",
   "execution_count": 18,
   "id": "8d981286-6c90-4deb-a39e-1537f1cef9de",
   "metadata": {},
   "outputs": [
    {
     "data": {
      "text/plain": [
       "<qiskit.circuit.instructionset.InstructionSet at 0x7f66f6c5f1c0>"
      ]
     },
     "execution_count": 18,
     "metadata": {},
     "output_type": "execute_result"
    }
   ],
   "source": [
    "qc.cx(0,1)\n",
    "qc.h(0)"
   ]
  },
  {
   "cell_type": "code",
   "execution_count": 25,
   "id": "1f0a5c05-8c36-4f05-bba0-c4bada3ce59b",
   "metadata": {},
   "outputs": [],
   "source": [
    "qc.measure_all()\n",
    "\n",
    "\n",
    "shot_count = 10000\n",
    "simulator = Aer.get_backend('qasm_simulator')\n",
    "job = execute(qc, simulator, shots = shot_count)"
   ]
  },
  {
   "cell_type": "code",
   "execution_count": 20,
   "id": "cb2acb19-7572-46d4-b71a-49bc23685bf5",
   "metadata": {
    "scrolled": true
   },
   "outputs": [
    {
     "data": {
      "text/html": [
       "<pre style=\"word-wrap: normal;white-space: pre;background: #fff0;line-height: 1.1;font-family: &quot;Courier New&quot;,Courier,monospace\">        ┌───┐     ┌────────┐     ┌───┐ ░ ┌─┐   \n",
       "   q_0: ┤ H ├──■──┤ Rx(75) ├──■──┤ H ├─░─┤M├───\n",
       "        └───┘┌─┴─┐└────────┘┌─┴─┐└───┘ ░ └╥┘┌─┐\n",
       "   q_1: ─────┤ X ├──────────┤ X ├──────░──╫─┤M├\n",
       "             └───┘          └───┘      ░  ║ └╥┘\n",
       "meas: 2/══════════════════════════════════╩══╩═\n",
       "                                          0  1 </pre>"
      ],
      "text/plain": [
       "        ┌───┐     ┌────────┐     ┌───┐ ░ ┌─┐   \n",
       "   q_0: ┤ H ├──■──┤ Rx(75) ├──■──┤ H ├─░─┤M├───\n",
       "        └───┘┌─┴─┐└────────┘┌─┴─┐└───┘ ░ └╥┘┌─┐\n",
       "   q_1: ─────┤ X ├──────────┤ X ├──────░──╫─┤M├\n",
       "             └───┘          └───┘      ░  ║ └╥┘\n",
       "meas: 2/══════════════════════════════════╩══╩═\n",
       "                                          0  1 "
      ]
     },
     "execution_count": 20,
     "metadata": {},
     "output_type": "execute_result"
    }
   ],
   "source": [
    "qc.draw()"
   ]
  },
  {
   "cell_type": "code",
   "execution_count": 21,
   "id": "4a1ac68b-ae18-4d39-b0bc-9ffcc4bcc9af",
   "metadata": {},
   "outputs": [],
   "source": [
    "results = job.result()\n",
    "counts = results.get_counts(qc)"
   ]
  },
  {
   "cell_type": "code",
   "execution_count": 22,
   "id": "abcae00e-28aa-4d84-9310-92f6b24e001b",
   "metadata": {},
   "outputs": [
    {
     "name": "stdout",
     "output_type": "stream",
     "text": [
      "{'10': 3905, '00': 96095}\n"
     ]
    }
   ],
   "source": [
    "print(counts)"
   ]
  },
  {
   "cell_type": "code",
   "execution_count": 23,
   "id": "5c73e537-9bd0-46e7-91e5-910256c0ccb5",
   "metadata": {},
   "outputs": [
    {
     "name": "stdout",
     "output_type": "stream",
     "text": [
      "1 96095 96\n",
      "3 3905 3\n"
     ]
    }
   ],
   "source": [
    "for k, i in sorted(counts.copy().items()):\n",
    "    print(bin_conv(k[::-1]) + 1, i,(i*100//shot_count))"
   ]
  },
  {
   "cell_type": "code",
   "execution_count": 24,
   "id": "a261f3d1-ebd6-4af7-88ed-8824089133ce",
   "metadata": {
    "scrolled": true
   },
   "outputs": [
    {
     "data": {
      "text/plain": [
       "(2, 100000)"
      ]
     },
     "execution_count": 24,
     "metadata": {},
     "output_type": "execute_result"
    }
   ],
   "source": [
    "len(counts), sum(counts.values())"
   ]
  },
  {
   "cell_type": "code",
   "execution_count": null,
   "id": "c5afc8ce-d4a8-4678-979c-33fbca0f0dce",
   "metadata": {},
   "outputs": [],
   "source": []
  },
  {
   "cell_type": "code",
   "execution_count": null,
   "id": "4c3bcb6c-8022-4fa9-be83-5e0ab9dc604d",
   "metadata": {},
   "outputs": [],
   "source": []
  }
 ],
 "metadata": {
  "kernelspec": {
   "display_name": "Python 3 (ipykernel)",
   "language": "python",
   "name": "python3"
  },
  "language_info": {
   "codemirror_mode": {
    "name": "ipython",
    "version": 3
   },
   "file_extension": ".py",
   "mimetype": "text/x-python",
   "name": "python",
   "nbconvert_exporter": "python",
   "pygments_lexer": "ipython3",
   "version": "3.10.12"
  }
 },
 "nbformat": 4,
 "nbformat_minor": 5
}
