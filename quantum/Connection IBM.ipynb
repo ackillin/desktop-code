{
 "cells": [
  {
   "cell_type": "code",
   "execution_count": 1,
   "id": "f78d6afb-637b-4fef-bf42-bce8a52929b5",
   "metadata": {
    "scrolled": true
   },
   "outputs": [],
   "source": [
    "from qiskit import *\n",
    "from qiskit_ibm_provider import IBMProvider"
   ]
  },
  {
   "cell_type": "code",
   "execution_count": 2,
   "id": "ebe05938-4023-4417-9337-5338a8d686a3",
   "metadata": {},
   "outputs": [],
   "source": [
    "provider = IBMProvider()"
   ]
  },
  {
   "cell_type": "code",
   "execution_count": 3,
   "id": "a02829fd-e2de-4084-89c6-52f4df88dfe9",
   "metadata": {},
   "outputs": [
    {
     "name": "stdout",
     "output_type": "stream",
     "text": [
      "[<IBMBackend('ibm_lagos')>, <IBMBackend('ibm_perth')>, <IBMBackend('ibm_brisbane')>, <IBMBackend('ibm_nairobi')>]\n"
     ]
    }
   ],
   "source": [
    "print(provider.backends(simulator=False, operational=True))"
   ]
  },
  {
   "cell_type": "code",
   "execution_count": 4,
   "id": "2211b273-78a9-40d4-bfc0-0444c496a0f3",
   "metadata": {},
   "outputs": [],
   "source": [
    "backend = provider.get_backend('simulator_stabilizer')"
   ]
  },
  {
   "cell_type": "code",
   "execution_count": 5,
   "id": "eb909bc8-a287-4514-8d4e-c98ca936afd0",
   "metadata": {},
   "outputs": [
    {
     "name": "stdout",
     "output_type": "stream",
     "text": [
      "cl014h5unk5mjfmqdr7g JobStatus.DONE\n",
      "cl013ofnetonc3ptcjrg JobStatus.DONE\n",
      "cl013bqkv5bv6feo0lk0 JobStatus.DONE\n",
      "cn00xnyp1am0008q300g JobStatus.ERROR\n",
      "cn00r7g3r3vg008wgw6g JobStatus.ERROR\n"
     ]
    }
   ],
   "source": [
    "for ran_job in provider.backend.jobs(limit=5):\n",
    "    print(str(ran_job.job_id()) + \" \" + str(ran_job.status()))"
   ]
  },
  {
   "cell_type": "code",
   "execution_count": 6,
   "id": "0b3d3f73-e574-419f-b7cd-7d2e044705c0",
   "metadata": {},
   "outputs": [
    {
     "data": {
      "text/plain": [
       "<qiskit.circuit.instructionset.InstructionSet at 0x7fd1d381d450>"
      ]
     },
     "execution_count": 6,
     "metadata": {},
     "output_type": "execute_result"
    }
   ],
   "source": [
    "qc = QuantumCircuit(3)\n",
    "for i in range(qc.num_qubits):\n",
    "    qc.h(i)\n",
    "qc.barrier()\n",
    "qc.cx(0,2)\n",
    "qc.cy(1,2)"
   ]
  },
  {
   "cell_type": "code",
   "execution_count": 7,
   "id": "3fb9c19e-67fe-4610-96db-39a24df07239",
   "metadata": {},
   "outputs": [
    {
     "data": {
      "text/html": [
       "<pre style=\"word-wrap: normal;white-space: pre;background: #fff0;line-height: 1.1;font-family: &quot;Courier New&quot;,Courier,monospace\">        ┌───┐ ░            ░ ┌─┐      \n",
       "   q_0: ┤ H ├─░───■────────░─┤M├──────\n",
       "        ├───┤ ░   │        ░ └╥┘┌─┐   \n",
       "   q_1: ┤ H ├─░───┼────■───░──╫─┤M├───\n",
       "        ├───┤ ░ ┌─┴─┐┌─┴─┐ ░  ║ └╥┘┌─┐\n",
       "   q_2: ┤ H ├─░─┤ X ├┤ Y ├─░──╫──╫─┤M├\n",
       "        └───┘ ░ └───┘└───┘ ░  ║  ║ └╥┘\n",
       "meas: 3/══════════════════════╩══╩══╩═\n",
       "                              0  1  2 </pre>"
      ],
      "text/plain": [
       "        ┌───┐ ░            ░ ┌─┐      \n",
       "   q_0: ┤ H ├─░───■────────░─┤M├──────\n",
       "        ├───┤ ░   │        ░ └╥┘┌─┐   \n",
       "   q_1: ┤ H ├─░───┼────■───░──╫─┤M├───\n",
       "        ├───┤ ░ ┌─┴─┐┌─┴─┐ ░  ║ └╥┘┌─┐\n",
       "   q_2: ┤ H ├─░─┤ X ├┤ Y ├─░──╫──╫─┤M├\n",
       "        └───┘ ░ └───┘└───┘ ░  ║  ║ └╥┘\n",
       "meas: 3/══════════════════════╩══╩══╩═\n",
       "                              0  1  2 "
      ]
     },
     "execution_count": 7,
     "metadata": {},
     "output_type": "execute_result"
    }
   ],
   "source": [
    "qc.measure_all()\n",
    "qc.draw()"
   ]
  },
  {
   "cell_type": "code",
   "execution_count": 10,
   "id": "3033a3c5-29ae-466a-b162-ee288edcced3",
   "metadata": {
    "scrolled": true
   },
   "outputs": [
    {
     "data": {
      "text/html": [
       "<pre style=\"word-wrap: normal;white-space: pre;background: #fff0;line-height: 1.1;font-family: &quot;Courier New&quot;,Courier,monospace\">        ┌───┐ ░            ░ ┌─┐      \n",
       "   q_0: ┤ H ├─░───■────────░─┤M├──────\n",
       "        ├───┤ ░   │        ░ └╥┘┌─┐   \n",
       "   q_1: ┤ H ├─░───┼────■───░──╫─┤M├───\n",
       "        ├───┤ ░ ┌─┴─┐┌─┴─┐ ░  ║ └╥┘┌─┐\n",
       "   q_2: ┤ H ├─░─┤ X ├┤ Y ├─░──╫──╫─┤M├\n",
       "        └───┘ ░ └───┘└───┘ ░  ║  ║ └╥┘\n",
       "meas: 3/══════════════════════╩══╩══╩═\n",
       "                              0  1  2 </pre>"
      ],
      "text/plain": [
       "        ┌───┐ ░            ░ ┌─┐      \n",
       "   q_0: ┤ H ├─░───■────────░─┤M├──────\n",
       "        ├───┤ ░   │        ░ └╥┘┌─┐   \n",
       "   q_1: ┤ H ├─░───┼────■───░──╫─┤M├───\n",
       "        ├───┤ ░ ┌─┴─┐┌─┴─┐ ░  ║ └╥┘┌─┐\n",
       "   q_2: ┤ H ├─░─┤ X ├┤ Y ├─░──╫──╫─┤M├\n",
       "        └───┘ ░ └───┘└───┘ ░  ║  ║ └╥┘\n",
       "meas: 3/══════════════════════╩══╩══╩═\n",
       "                              0  1  2 "
      ]
     },
     "execution_count": 10,
     "metadata": {},
     "output_type": "execute_result"
    }
   ],
   "source": [
    "qc.draw('text')"
   ]
  },
  {
   "cell_type": "code",
   "execution_count": 11,
   "id": "38678e1a-fec1-44e1-b380-9ba833384855",
   "metadata": {},
   "outputs": [],
   "source": [
    "job = backend.run(qc, shots = 1000)"
   ]
  },
  {
   "cell_type": "code",
   "execution_count": 12,
   "id": "51289fbf-d469-441e-9d9a-0f06c8c61547",
   "metadata": {},
   "outputs": [
    {
     "data": {
      "text/plain": [
       "<JobStatus.DONE: 'job has successfully run'>"
      ]
     },
     "execution_count": 12,
     "metadata": {},
     "output_type": "execute_result"
    }
   ],
   "source": [
    "job.status()"
   ]
  },
  {
   "cell_type": "code",
   "execution_count": 13,
   "id": "cb5cac59-43af-44b2-abfa-9c2c37962850",
   "metadata": {},
   "outputs": [],
   "source": [
    "results=job.result()"
   ]
  },
  {
   "cell_type": "code",
   "execution_count": 14,
   "id": "b36c4198-aa7d-467f-b3e3-e41bc85870ae",
   "metadata": {},
   "outputs": [
    {
     "name": "stdout",
     "output_type": "stream",
     "text": [
      "{'101': 143, '001': 110, '010': 119, '100': 116, '110': 128, '000': 134, '111': 125, '011': 125}\n"
     ]
    }
   ],
   "source": [
    "counts = results.get_counts()\n",
    "print(counts)"
   ]
  },
  {
   "cell_type": "code",
   "execution_count": null,
   "id": "aa0c92f7-de4f-401a-8948-b43800fd9e69",
   "metadata": {},
   "outputs": [],
   "source": [
    "job.status()"
   ]
  }
 ],
 "metadata": {
  "kernelspec": {
   "display_name": "Python 3 (ipykernel)",
   "language": "python",
   "name": "python3"
  },
  "language_info": {
   "codemirror_mode": {
    "name": "ipython",
    "version": 3
   },
   "file_extension": ".py",
   "mimetype": "text/x-python",
   "name": "python",
   "nbconvert_exporter": "python",
   "pygments_lexer": "ipython3",
   "version": "3.10.12"
  }
 },
 "nbformat": 4,
 "nbformat_minor": 5
}
